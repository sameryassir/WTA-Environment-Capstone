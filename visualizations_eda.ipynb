{
 "cells": [
  {
   "cell_type": "code",
   "execution_count": 25,
   "metadata": {},
   "outputs": [],
   "source": [
    "# Cell 1: Import libraries\n",
    "import pandas as pd\n",
    "from geopy.geocoders import Nominatim\n",
    "from geopy.extra.rate_limiter import RateLimiter\n",
    "\n",
    "# Use a higher timeout and longer delay to avoid being throttled\n",
    "geolocator = Nominatim(user_agent=\"wta-env-geocoder\", timeout=10)\n",
    "geocode = RateLimiter(geolocator.geocode, min_delay_seconds=2, max_retries=3, error_wait_seconds=10.0)\n",
    "\n",
    "# Enable tqdm for pandas apply\n",
    "tqdm.pandas()"
   ]
  },
  {
   "cell_type": "code",
   "execution_count": 19,
   "metadata": {},
   "outputs": [],
   "source": [
    "# Cell 2: Load the dataset (if not already loaded)\n",
    "merged_env_data = pd.read_csv(\"Merged_WTA_Env.csv\")"
   ]
  },
  {
   "cell_type": "code",
   "execution_count": 20,
   "metadata": {},
   "outputs": [],
   "source": [
    "# Cell 3: Initialize geolocator\n",
    "geolocator = Nominatim(user_agent=\"wta-env-mapper\")\n",
    "geocode = RateLimiter(geolocator.geocode, min_delay_seconds=1)"
   ]
  },
  {
   "cell_type": "code",
   "execution_count": 21,
   "metadata": {},
   "outputs": [],
   "source": [
    "# Cell 4: Extract unique cities\n",
    "unique_cities = merged_env_data[\"Tournament City\"].dropna().unique()"
   ]
  },
  {
   "cell_type": "code",
   "execution_count": 26,
   "metadata": {},
   "outputs": [
    {
     "name": "stderr",
     "output_type": "stream",
     "text": [
      "Geocoding cities:   0%|          | 0/106 [00:00<?, ?it/s]"
     ]
    },
    {
     "name": "stderr",
     "output_type": "stream",
     "text": [
      "Geocoding cities: 100%|██████████| 106/106 [03:30<00:00,  1.99s/it]\n"
     ]
    }
   ],
   "source": [
    "from tqdm import tqdm\n",
    "import time\n",
    "\n",
    "# Track results\n",
    "city_coords = {}\n",
    "\n",
    "# Loop over unique cities with retry handling\n",
    "for city in tqdm(unique_cities, desc=\"Geocoding cities\"):\n",
    "    try:\n",
    "        location = geocode(city)\n",
    "        if location:\n",
    "            city_coords[city] = {\"Latitude\": location.latitude, \"Longitude\": location.longitude}\n",
    "        else:\n",
    "            city_coords[city] = {\"Latitude\": None, \"Longitude\": None}\n",
    "    except Exception as e:\n",
    "        print(f\"Geocoding failed for {city}: {e}\")\n",
    "        city_coords[city] = {\"Latitude\": None, \"Longitude\": None}\n",
    "        time.sleep(5)"
   ]
  },
  {
   "cell_type": "code",
   "execution_count": 23,
   "metadata": {},
   "outputs": [],
   "source": [
    "# Cell 6: Convert coordinates to DataFrame\n",
    "coords_df = pd.DataFrame.from_dict(city_coords, orient=\"index\").reset_index()\n",
    "coords_df.columns = [\"Tournament City\", \"Latitude\", \"Longitude\"]"
   ]
  },
  {
   "cell_type": "code",
   "execution_count": 24,
   "metadata": {},
   "outputs": [],
   "source": [
    "# Cell 7: Merge coordinates into your dataset\n",
    "merged_env_data = merged_env_data.merge(coords_df, on=\"Tournament City\", how=\"left\")"
   ]
  },
  {
   "cell_type": "code",
   "execution_count": 27,
   "metadata": {},
   "outputs": [],
   "source": [
    "merged_env_data.to_csv(\"merged_env_data_with_coords.csv\")"
   ]
  },
  {
   "cell_type": "code",
   "execution_count": 1,
   "metadata": {},
   "outputs": [
    {
     "data": {
      "text/plain": [
       "RendererRegistry.enable('default')"
      ]
     },
     "execution_count": 1,
     "metadata": {},
     "output_type": "execute_result"
    }
   ],
   "source": [
    "import pandas as pd\n",
    "import altair as alt\n",
    "\n",
    "# Enable interactive rendering in Jupyter (for notebook, not JupyterLab)\n",
    "alt.renderers.enable('default')"
   ]
  },
  {
   "cell_type": "code",
   "execution_count": 2,
   "metadata": {},
   "outputs": [],
   "source": [
    "df = pd.read_csv(\"merged_env_data_with_coords.csv\")\n",
    "\n",
    "# Drop rows missing key values\n",
    "df = df.dropna(subset=[\"AQI Reading\", \"Latitude\", \"Longitude\", \"Year\"])\n",
    "\n",
    "# Ensure correct types\n",
    "df[\"AQI Reading\"] = pd.to_numeric(df[\"AQI Reading\"], errors=\"coerce\")\n",
    "df[\"Year\"] = pd.to_numeric(df[\"Year\"], errors=\"coerce\")\n",
    "\n",
    "# Average AQI per city/year\n",
    "aqi_summary = (\n",
    "    df.groupby([\"Tournament City\", \"Year\", \"Latitude\", \"Longitude\"])\n",
    "      .agg(avg_aqi=(\"AQI Reading\", \"mean\"))\n",
    "      .reset_index()\n",
    ")"
   ]
  },
  {
   "cell_type": "code",
   "execution_count": 3,
   "metadata": {},
   "outputs": [],
   "source": [
    "# Define color scale for AQI categories\n",
    "aqi_color_scale = alt.Scale(\n",
    "    domain=[0, 51, 101, 151, 201, 301],\n",
    "    range=[\"green\", \"yellow\", \"orange\", \"red\", \"purple\", \"maroon\"]\n",
    ")\n",
    "\n",
    "# Create slider parameter (Altair v5)\n",
    "year_slider = alt.param(\n",
    "    name=\"year\",\n",
    "    bind=alt.binding_range(min=int(aqi_summary[\"Year\"].min()),\n",
    "                           max=int(aqi_summary[\"Year\"].max()),\n",
    "                           step=1,\n",
    "                           name=\"Select Year:\"),\n",
    "    value=int(aqi_summary[\"Year\"].min())\n",
    ")"
   ]
  },
  {
   "cell_type": "code",
   "execution_count": 4,
   "metadata": {},
   "outputs": [],
   "source": [
    "choropleth = alt.Chart(aqi_summary).mark_circle(size=100).encode(\n",
    "    longitude=\"Longitude:Q\",\n",
    "    latitude=\"Latitude:Q\",\n",
    "    color=alt.Color(\"avg_aqi:Q\", scale=aqi_color_scale, title=\"Average AQI\"),\n",
    "    tooltip=[\"Tournament City:N\", \"Year:O\", \"avg_aqi:Q\"]\n",
    ").transform_filter(\n",
    "    alt.datum.Year == year_slider\n",
    ").add_params(\n",
    "    year_slider\n",
    ").project(\n",
    "    type=\"equalEarth\"\n",
    ").properties(\n",
    "    width=800,\n",
    "    height=400,\n",
    "    title=\"Average AQI by Tournament City (Use Slider to Change Year)\"\n",
    ")"
   ]
  },
  {
   "cell_type": "code",
   "execution_count": 5,
   "metadata": {},
   "outputs": [],
   "source": [
    "# Load the world map outline from Vega's built-in dataset\n",
    "countries = alt.topo_feature(\"https://cdn.jsdelivr.net/npm/world-atlas@2/countries-110m.json\", \"countries\")\n",
    "\n",
    "# Create the base map layer\n",
    "base_map = alt.Chart(countries).mark_geoshape(\n",
    "    fill=\"lightgray\",\n",
    "    stroke=\"white\"\n",
    ").project(\n",
    "    type=\"equalEarth\"\n",
    ").properties(\n",
    "    width=800,\n",
    "    height=400\n",
    ")"
   ]
  },
  {
   "cell_type": "code",
   "execution_count": 6,
   "metadata": {},
   "outputs": [
    {
     "name": "stderr",
     "output_type": "stream",
     "text": [
      "c:\\Users\\samer\\anaconda3\\Lib\\site-packages\\altair\\utils\\core.py:395: FutureWarning: the convert_dtype parameter is deprecated and will be removed in a future version.  Do ``ser.astype(object).apply()`` instead if you want ``convert_dtype=False``.\n",
      "  col = df[col_name].apply(to_list_if_array, convert_dtype=False)\n"
     ]
    },
    {
     "data": {
      "text/html": [
       "\n",
       "<style>\n",
       "  #altair-viz-9127a48cd59147b4b7140ef1a95ef7a9.vega-embed {\n",
       "    width: 100%;\n",
       "    display: flex;\n",
       "  }\n",
       "\n",
       "  #altair-viz-9127a48cd59147b4b7140ef1a95ef7a9.vega-embed details,\n",
       "  #altair-viz-9127a48cd59147b4b7140ef1a95ef7a9.vega-embed details summary {\n",
       "    position: relative;\n",
       "  }\n",
       "</style>\n",
       "<div id=\"altair-viz-9127a48cd59147b4b7140ef1a95ef7a9\"></div>\n",
       "<script type=\"text/javascript\">\n",
       "  var VEGA_DEBUG = (typeof VEGA_DEBUG == \"undefined\") ? {} : VEGA_DEBUG;\n",
       "  (function(spec, embedOpt){\n",
       "    let outputDiv = document.currentScript.previousElementSibling;\n",
       "    if (outputDiv.id !== \"altair-viz-9127a48cd59147b4b7140ef1a95ef7a9\") {\n",
       "      outputDiv = document.getElementById(\"altair-viz-9127a48cd59147b4b7140ef1a95ef7a9\");\n",
       "    }\n",
       "    const paths = {\n",
       "      \"vega\": \"https://cdn.jsdelivr.net/npm/vega@5?noext\",\n",
       "      \"vega-lib\": \"https://cdn.jsdelivr.net/npm/vega-lib?noext\",\n",
       "      \"vega-lite\": \"https://cdn.jsdelivr.net/npm/vega-lite@5.8.0?noext\",\n",
       "      \"vega-embed\": \"https://cdn.jsdelivr.net/npm/vega-embed@6?noext\",\n",
       "    };\n",
       "\n",
       "    function maybeLoadScript(lib, version) {\n",
       "      var key = `${lib.replace(\"-\", \"\")}_version`;\n",
       "      return (VEGA_DEBUG[key] == version) ?\n",
       "        Promise.resolve(paths[lib]) :\n",
       "        new Promise(function(resolve, reject) {\n",
       "          var s = document.createElement('script');\n",
       "          document.getElementsByTagName(\"head\")[0].appendChild(s);\n",
       "          s.async = true;\n",
       "          s.onload = () => {\n",
       "            VEGA_DEBUG[key] = version;\n",
       "            return resolve(paths[lib]);\n",
       "          };\n",
       "          s.onerror = () => reject(`Error loading script: ${paths[lib]}`);\n",
       "          s.src = paths[lib];\n",
       "        });\n",
       "    }\n",
       "\n",
       "    function showError(err) {\n",
       "      outputDiv.innerHTML = `<div class=\"error\" style=\"color:red;\">${err}</div>`;\n",
       "      throw err;\n",
       "    }\n",
       "\n",
       "    function displayChart(vegaEmbed) {\n",
       "      vegaEmbed(outputDiv, spec, embedOpt)\n",
       "        .catch(err => showError(`Javascript Error: ${err.message}<br>This usually means there's a typo in your chart specification. See the javascript console for the full traceback.`));\n",
       "    }\n",
       "\n",
       "    if(typeof define === \"function\" && define.amd) {\n",
       "      requirejs.config({paths});\n",
       "      require([\"vega-embed\"], displayChart, err => showError(`Error loading script: ${err.message}`));\n",
       "    } else {\n",
       "      maybeLoadScript(\"vega\", \"5\")\n",
       "        .then(() => maybeLoadScript(\"vega-lite\", \"5.8.0\"))\n",
       "        .then(() => maybeLoadScript(\"vega-embed\", \"6\"))\n",
       "        .catch(showError)\n",
       "        .then(() => displayChart(vegaEmbed));\n",
       "    }\n",
       "  })({\"config\": {\"view\": {\"continuousWidth\": 300, \"continuousHeight\": 300}}, \"layer\": [{\"data\": {\"url\": \"https://cdn.jsdelivr.net/npm/world-atlas@2/countries-110m.json\", \"format\": {\"feature\": \"countries\", \"type\": \"topojson\"}}, \"mark\": {\"type\": \"geoshape\", \"fill\": \"lightgray\", \"stroke\": \"white\"}, \"projection\": {\"type\": \"equalEarth\"}}, {\"data\": {\"name\": \"data-b039df4d8f2f2f365b7beae8a2d4f483\"}, \"mark\": {\"type\": \"circle\", \"size\": 100}, \"encoding\": {\"color\": {\"field\": \"avg_aqi\", \"scale\": {\"domain\": [0, 51, 101, 151, 201, 301], \"range\": [\"green\", \"yellow\", \"orange\", \"red\", \"purple\", \"maroon\"]}, \"title\": \"Average AQI\", \"type\": \"quantitative\"}, \"latitude\": {\"field\": \"Latitude\", \"type\": \"quantitative\"}, \"longitude\": {\"field\": \"Longitude\", \"type\": \"quantitative\"}, \"tooltip\": [{\"field\": \"Tournament City\", \"type\": \"nominal\"}, {\"field\": \"Year\", \"type\": \"ordinal\"}, {\"field\": \"avg_aqi\", \"type\": \"quantitative\"}]}, \"projection\": {\"type\": \"equalEarth\"}, \"title\": \"Average AQI by Tournament City (Use Slider to Change Year)\", \"transform\": [{\"filter\": \"(datum.Year === year)\"}]}], \"height\": 400, \"params\": [{\"name\": \"year\", \"bind\": {\"input\": \"range\", \"max\": 2025, \"min\": 2021, \"name\": \"Select Year:\", \"step\": 1}, \"value\": 2021}], \"width\": 800, \"$schema\": \"https://vega.github.io/schema/vega-lite/v5.8.0.json\", \"datasets\": {\"data-b039df4d8f2f2f365b7beae8a2d4f483\": [{\"Tournament City\": \"ABU DHABI\", \"Year\": 2021.0, \"Latitude\": 24.4538352, \"Longitude\": 54.3774014, \"avg_aqi\": 37.77777777777778}, {\"Tournament City\": \"ABU DHABI\", \"Year\": 2023.0, \"Latitude\": 24.4538352, \"Longitude\": 54.3774014, \"avg_aqi\": 75.33333333333333}, {\"Tournament City\": \"ABU DHABI\", \"Year\": 2024.0, \"Latitude\": 24.4538352, \"Longitude\": 54.3774014, \"avg_aqi\": 70.80952380952381}, {\"Tournament City\": \"ADELAIDE\", \"Year\": 2021.0, \"Latitude\": -34.9281805, \"Longitude\": 138.5999312, \"avg_aqi\": 29.90909090909091}, {\"Tournament City\": \"ADELAIDE\", \"Year\": 2022.0, \"Latitude\": -34.9281805, \"Longitude\": 138.5999312, \"avg_aqi\": 20.333333333333332}, {\"Tournament City\": \"ADELAIDE\", \"Year\": 2023.0, \"Latitude\": -34.9281805, \"Longitude\": 138.5999312, \"avg_aqi\": 21.043478260869566}, {\"Tournament City\": \"ADELAIDE\", \"Year\": 2024.0, \"Latitude\": -34.9281805, \"Longitude\": 138.5999312, \"avg_aqi\": 18.81875}, {\"Tournament City\": \"ANTALYA\", \"Year\": 2024.0, \"Latitude\": 36.8865728, \"Longitude\": 30.7030242, \"avg_aqi\": 49.375}, {\"Tournament City\": \"AUCKLAND\", \"Year\": 2022.0, \"Latitude\": -36.852095, \"Longitude\": 174.7631803, \"avg_aqi\": 37.333333333333336}, {\"Tournament City\": \"AUCKLAND\", \"Year\": 2023.0, \"Latitude\": -36.852095, \"Longitude\": 174.7631803, \"avg_aqi\": 13.0}, {\"Tournament City\": \"AUCKLAND\", \"Year\": 2025.0, \"Latitude\": -36.852095, \"Longitude\": 174.7631803, \"avg_aqi\": 13.0}, {\"Tournament City\": \"AUSTIN\", \"Year\": 2023.0, \"Latitude\": 30.2711286, \"Longitude\": -97.7436995, \"avg_aqi\": 53.0}, {\"Tournament City\": \"BAD HOMBURG\", \"Year\": 2021.0, \"Latitude\": 50.2363508, \"Longitude\": 8.5980265, \"avg_aqi\": 25.5}, {\"Tournament City\": \"BAD HOMBURG\", \"Year\": 2022.0, \"Latitude\": 50.2363508, \"Longitude\": 8.5980265, \"avg_aqi\": 25.0}, {\"Tournament City\": \"BAD HOMBURG\", \"Year\": 2023.0, \"Latitude\": 50.2363508, \"Longitude\": 8.5980265, \"avg_aqi\": 31.75}, {\"Tournament City\": \"BAD HOMBURG\", \"Year\": 2024.0, \"Latitude\": 50.2363508, \"Longitude\": 8.5980265, \"avg_aqi\": 26.4}, {\"Tournament City\": \"BARRANQUILLA\", \"Year\": 2024.0, \"Latitude\": 11.0101922, \"Longitude\": -74.8231794084391, \"avg_aqi\": 64.33333333333333}, {\"Tournament City\": \"BASTAD\", \"Year\": 2021.0, \"Latitude\": 56.4267895, \"Longitude\": 12.8607151, \"avg_aqi\": 30.11111111111111}, {\"Tournament City\": \"BASTAD\", \"Year\": 2023.0, \"Latitude\": 56.4267895, \"Longitude\": 12.8607151, \"avg_aqi\": 26.142857142857142}, {\"Tournament City\": \"BASTAD\", \"Year\": 2024.0, \"Latitude\": 56.4267895, \"Longitude\": 12.8607151, \"avg_aqi\": 30.4}, {\"Tournament City\": \"BEIJING\", \"Year\": 2023.0, \"Latitude\": 40.190632, \"Longitude\": 116.412144, \"avg_aqi\": 64.89473684210526}, {\"Tournament City\": \"BEIJING\", \"Year\": 2024.0, \"Latitude\": 40.190632, \"Longitude\": 116.412144, \"avg_aqi\": 63.03030303030303}, {\"Tournament City\": \"BERLIN\", \"Year\": 2021.0, \"Latitude\": 52.510885, \"Longitude\": 13.3989367, \"avg_aqi\": 50.142857142857146}, {\"Tournament City\": \"BERLIN\", \"Year\": 2022.0, \"Latitude\": 52.510885, \"Longitude\": 13.3989367, \"avg_aqi\": 41.166666666666664}, {\"Tournament City\": \"BERLIN\", \"Year\": 2023.0, \"Latitude\": 52.510885, \"Longitude\": 13.3989367, \"avg_aqi\": 38.72222222222222}, {\"Tournament City\": \"BERLIN\", \"Year\": 2024.0, \"Latitude\": 52.510885, \"Longitude\": 13.3989367, \"avg_aqi\": 33.1875}, {\"Tournament City\": \"BIRMINGHAM\", \"Year\": 2021.0, \"Latitude\": 52.4796992, \"Longitude\": -1.9026911, \"avg_aqi\": 27.428571428571427}, {\"Tournament City\": \"BIRMINGHAM\", \"Year\": 2022.0, \"Latitude\": 52.4796992, \"Longitude\": -1.9026911, \"avg_aqi\": 12.0}, {\"Tournament City\": \"BIRMINGHAM\", \"Year\": 2023.0, \"Latitude\": 52.4796992, \"Longitude\": -1.9026911, \"avg_aqi\": 2.5}, {\"Tournament City\": \"BIRMINGHAM\", \"Year\": 2024.0, \"Latitude\": 52.4796992, \"Longitude\": -1.9026911, \"avg_aqi\": 20.583333333333332}, {\"Tournament City\": \"BOGOTA\", \"Year\": 2021.0, \"Latitude\": 4.6533816, \"Longitude\": -74.0836333, \"avg_aqi\": 50.125}, {\"Tournament City\": \"BOGOTA\", \"Year\": 2022.0, \"Latitude\": 4.6533816, \"Longitude\": -74.0836333, \"avg_aqi\": 0.0}, {\"Tournament City\": \"BOGOTA\", \"Year\": 2023.0, \"Latitude\": 4.6533816, \"Longitude\": -74.0836333, \"avg_aqi\": 58.8}, {\"Tournament City\": \"BOGOTA\", \"Year\": 2024.0, \"Latitude\": 4.6533816, \"Longitude\": -74.0836333, \"avg_aqi\": 74.16666666666667}, {\"Tournament City\": \"BOL\", \"Year\": 2021.0, \"Latitude\": 43.2605186, \"Longitude\": 16.6520192, \"avg_aqi\": 41.375}, {\"Tournament City\": \"BRISBANE\", \"Year\": 2023.0, \"Latitude\": -27.4689682, \"Longitude\": 153.0234991, \"avg_aqi\": 59.0}, {\"Tournament City\": \"BUCHAREST\", \"Year\": 2022.0, \"Latitude\": 44.4361414, \"Longitude\": 26.1027202, \"avg_aqi\": 45.22222222222222}, {\"Tournament City\": \"BUCHAREST\", \"Year\": 2023.0, \"Latitude\": 44.4361414, \"Longitude\": 26.1027202, \"avg_aqi\": 24.77777777777778}, {\"Tournament City\": \"BUCHAREST\", \"Year\": 2024.0, \"Latitude\": 44.4361414, \"Longitude\": 26.1027202, \"avg_aqi\": 28.5}, {\"Tournament City\": \"BUDAPEST\", \"Year\": 2021.0, \"Latitude\": 47.48138955, \"Longitude\": 19.14609412691246, \"avg_aqi\": 38.5}, {\"Tournament City\": \"BUDAPEST\", \"Year\": 2022.0, \"Latitude\": 47.48138955, \"Longitude\": 19.14609412691246, \"avg_aqi\": 32.5}, {\"Tournament City\": \"BUDAPEST\", \"Year\": 2023.0, \"Latitude\": 47.48138955, \"Longitude\": 19.14609412691246, \"avg_aqi\": 45.96153846153846}, {\"Tournament City\": \"BUDAPEST\", \"Year\": 2024.0, \"Latitude\": 47.48138955, \"Longitude\": 19.14609412691246, \"avg_aqi\": 58.111111111111114}, {\"Tournament City\": \"BUENOS AIRES\", \"Year\": 2022.0, \"Latitude\": -34.6083696, \"Longitude\": -58.4440583, \"avg_aqi\": 26.8}, {\"Tournament City\": \"BUENOS AIRES\", \"Year\": 2023.0, \"Latitude\": -34.6083696, \"Longitude\": -58.4440583, \"avg_aqi\": 32.0}, {\"Tournament City\": \"BUENOS AIRES\", \"Year\": 2024.0, \"Latitude\": -34.6083696, \"Longitude\": -58.4440583, \"avg_aqi\": 50.44444444444444}, {\"Tournament City\": \"CALI\", \"Year\": 2023.0, \"Latitude\": 3.4519988, \"Longitude\": -76.5325259, \"avg_aqi\": 34.75}, {\"Tournament City\": \"CALI\", \"Year\": 2024.0, \"Latitude\": 3.4519988, \"Longitude\": -76.5325259, \"avg_aqi\": 9.4375}, {\"Tournament City\": \"CANBERRA\", \"Year\": 2023.0, \"Latitude\": -35.2975906, \"Longitude\": 149.1012676, \"avg_aqi\": 25.166666666666668}, {\"Tournament City\": \"CANBERRA\", \"Year\": 2025.0, \"Latitude\": -35.2975906, \"Longitude\": 149.1012676, \"avg_aqi\": 26.11111111111111}, {\"Tournament City\": \"CANCUN\", \"Year\": 2023.0, \"Latitude\": 21.1527467, \"Longitude\": -86.8425761, \"avg_aqi\": 15.647058823529411}, {\"Tournament City\": \"CHARLESTON\", \"Year\": 2021.0, \"Latitude\": 32.7884363, \"Longitude\": -79.9399309, \"avg_aqi\": 34.0}, {\"Tournament City\": \"CHARLESTON\", \"Year\": 2023.0, \"Latitude\": 32.7884363, \"Longitude\": -79.9399309, \"avg_aqi\": 40.666666666666664}, {\"Tournament City\": \"CHARLESTON\", \"Year\": 2024.0, \"Latitude\": 32.7884363, \"Longitude\": -79.9399309, \"avg_aqi\": 19.375}, {\"Tournament City\": \"CHENNAI\", \"Year\": 2022.0, \"Latitude\": 13.0836939, \"Longitude\": 80.270186, \"avg_aqi\": 78.45454545454545}, {\"Tournament City\": \"CHICAGO\", \"Year\": 2021.0, \"Latitude\": 41.8755616, \"Longitude\": -87.6244212, \"avg_aqi\": 42.27272727272727}, {\"Tournament City\": \"CHICAGO\", \"Year\": 2023.0, \"Latitude\": 41.8755616, \"Longitude\": -87.6244212, \"avg_aqi\": 54.77777777777778}, {\"Tournament City\": \"CINCINNATI\", \"Year\": 2021.0, \"Latitude\": 39.1014537, \"Longitude\": -84.5124602, \"avg_aqi\": 41.1764705882353}, {\"Tournament City\": \"CINCINNATI\", \"Year\": 2022.0, \"Latitude\": 39.1014537, \"Longitude\": -84.5124602, \"avg_aqi\": 43.166666666666664}, {\"Tournament City\": \"CINCINNATI\", \"Year\": 2023.0, \"Latitude\": 39.1014537, \"Longitude\": -84.5124602, \"avg_aqi\": 46.791666666666664}, {\"Tournament City\": \"CINCINNATI\", \"Year\": 2024.0, \"Latitude\": 39.1014537, \"Longitude\": -84.5124602, \"avg_aqi\": 31.5}, {\"Tournament City\": \"CLEVELAND\", \"Year\": 2021.0, \"Latitude\": 41.4996574, \"Longitude\": -81.6936772, \"avg_aqi\": 51.666666666666664}, {\"Tournament City\": \"CLEVELAND\", \"Year\": 2022.0, \"Latitude\": 41.4996574, \"Longitude\": -81.6936772, \"avg_aqi\": 39.35}, {\"Tournament City\": \"CLEVELAND\", \"Year\": 2023.0, \"Latitude\": 41.4996574, \"Longitude\": -81.6936772, \"avg_aqi\": 35.0}, {\"Tournament City\": \"CLEVELAND\", \"Year\": 2024.0, \"Latitude\": 41.4996574, \"Longitude\": -81.6936772, \"avg_aqi\": 44.535714285714285}, {\"Tournament City\": \"CLUJ-NAPOCA\", \"Year\": 2021.0, \"Latitude\": 46.769379, \"Longitude\": 23.5899542, \"avg_aqi\": 37.666666666666664}, {\"Tournament City\": \"COLINA\", \"Year\": 2022.0, \"Latitude\": -20.711443, \"Longitude\": -48.53867, \"avg_aqi\": 62.7}, {\"Tournament City\": \"COLINA\", \"Year\": 2023.0, \"Latitude\": -20.711443, \"Longitude\": -48.53867, \"avg_aqi\": 57.666666666666664}, {\"Tournament City\": \"COLINA\", \"Year\": 2024.0, \"Latitude\": -20.711443, \"Longitude\": -48.53867, \"avg_aqi\": 53.1}, {\"Tournament City\": \"CONCORD\", \"Year\": 2022.0, \"Latitude\": 43.207178, \"Longitude\": -71.537476, \"avg_aqi\": 51.0}, {\"Tournament City\": \"CONTREXEVILLE\", \"Year\": 2022.0, \"Latitude\": 48.180496, \"Longitude\": 5.8946281, \"avg_aqi\": 3.357142857142857}, {\"Tournament City\": \"CONTREXEVILLE\", \"Year\": 2023.0, \"Latitude\": 48.180496, \"Longitude\": 5.8946281, \"avg_aqi\": 3.142857142857143}, {\"Tournament City\": \"CONTREXEVILLE\", \"Year\": 2024.0, \"Latitude\": 48.180496, \"Longitude\": 5.8946281, \"avg_aqi\": 27.095238095238095}, {\"Tournament City\": \"DOHA\", \"Year\": 2021.0, \"Latitude\": 25.2856329, \"Longitude\": 51.5264162, \"avg_aqi\": 51.57142857142857}, {\"Tournament City\": \"DOHA\", \"Year\": 2022.0, \"Latitude\": 25.2856329, \"Longitude\": 51.5264162, \"avg_aqi\": 91.33333333333333}, {\"Tournament City\": \"DOHA\", \"Year\": 2023.0, \"Latitude\": 25.2856329, \"Longitude\": 51.5264162, \"avg_aqi\": 94.0}, {\"Tournament City\": \"DOHA\", \"Year\": 2024.0, \"Latitude\": 25.2856329, \"Longitude\": 51.5264162, \"avg_aqi\": 84.23076923076923}, {\"Tournament City\": \"DUBAI\", \"Year\": 2021.0, \"Latitude\": 25.07428235, \"Longitude\": 55.18853865430702, \"avg_aqi\": 109.75}, {\"Tournament City\": \"DUBAI\", \"Year\": 2022.0, \"Latitude\": 25.07428235, \"Longitude\": 55.18853865430702, \"avg_aqi\": 77.14285714285714}, {\"Tournament City\": \"DUBAI\", \"Year\": 2023.0, \"Latitude\": 25.07428235, \"Longitude\": 55.18853865430702, \"avg_aqi\": 141.57142857142858}, {\"Tournament City\": \"DUBAI\", \"Year\": 2024.0, \"Latitude\": 25.07428235, \"Longitude\": 55.18853865430702, \"avg_aqi\": 78.76190476190476}, {\"Tournament City\": \"EASTBOURNE\", \"Year\": 2021.0, \"Latitude\": 50.7664372, \"Longitude\": 0.2781546, \"avg_aqi\": 16.7}, {\"Tournament City\": \"EASTBOURNE\", \"Year\": 2024.0, \"Latitude\": 50.7664372, \"Longitude\": 0.2781546, \"avg_aqi\": 15.785714285714286}, {\"Tournament City\": \"FLORENCE\", \"Year\": 2023.0, \"Latitude\": 43.7697955, \"Longitude\": 11.2556404, \"avg_aqi\": 26.166666666666668}, {\"Tournament City\": \"FLORIANOPOLIS\", \"Year\": 2024.0, \"Latitude\": -27.5973002, \"Longitude\": -48.5496098, \"avg_aqi\": 28.666666666666668}, {\"Tournament City\": \"GAIBA\", \"Year\": 2022.0, \"Latitude\": 44.946179, \"Longitude\": 11.480207, \"avg_aqi\": 35.904761904761905}, {\"Tournament City\": \"GAIBA\", \"Year\": 2023.0, \"Latitude\": 44.946179, \"Longitude\": 11.480207, \"avg_aqi\": 57.285714285714285}, {\"Tournament City\": \"GAIBA\", \"Year\": 2024.0, \"Latitude\": 44.946179, \"Longitude\": 11.480207, \"avg_aqi\": 12.571428571428571}, {\"Tournament City\": \"GDYNIA\", \"Year\": 2021.0, \"Latitude\": 54.52333035, \"Longitude\": 18.604027892041863, \"avg_aqi\": 38.8}, {\"Tournament City\": \"GUADALAJARA\", \"Year\": 2021.0, \"Latitude\": 20.6720375, \"Longitude\": -103.338396, \"avg_aqi\": 50.0}, {\"Tournament City\": \"GUADALAJARA\", \"Year\": 2022.0, \"Latitude\": 20.6720375, \"Longitude\": -103.338396, \"avg_aqi\": 63.333333333333336}, {\"Tournament City\": \"GUADALAJARA\", \"Year\": 2023.0, \"Latitude\": 20.6720375, \"Longitude\": -103.338396, \"avg_aqi\": 72.0}, {\"Tournament City\": \"GUADALAJARA\", \"Year\": 2024.0, \"Latitude\": 20.6720375, \"Longitude\": -103.338396, \"avg_aqi\": 49.0625}, {\"Tournament City\": \"GUANGZHOU\", \"Year\": 2023.0, \"Latitude\": 23.1301964, \"Longitude\": 113.2592945, \"avg_aqi\": 43.333333333333336}, {\"Tournament City\": \"GUANGZHOU\", \"Year\": 2024.0, \"Latitude\": 23.1301964, \"Longitude\": 113.2592945, \"avg_aqi\": 57.94736842105263}, {\"Tournament City\": \"HAMBURG\", \"Year\": 2023.0, \"Latitude\": 53.550341, \"Longitude\": 10.000654, \"avg_aqi\": 24.375}, {\"Tournament City\": \"HAMBURG\", \"Year\": 2024.0, \"Latitude\": 53.550341, \"Longitude\": 10.000654, \"avg_aqi\": 28.4375}, {\"Tournament City\": \"HOBART\", \"Year\": 2024.0, \"Latitude\": -42.8825088, \"Longitude\": 147.3281233, \"avg_aqi\": 6.214285714285714}, {\"Tournament City\": \"HONG KONG\", \"Year\": 2023.0, \"Latitude\": 22.350627, \"Longitude\": 114.1849161, \"avg_aqi\": 45.125}, {\"Tournament City\": \"HONG KONG\", \"Year\": 2024.0, \"Latitude\": 22.350627, \"Longitude\": 114.1849161, \"avg_aqi\": 61.80769230769231}, {\"Tournament City\": \"HUA HIN\", \"Year\": 2023.0, \"Latitude\": 12.5699326, \"Longitude\": 99.9573437, \"avg_aqi\": 74.33333333333333}, {\"Tournament City\": \"HUA HIN\", \"Year\": 2024.0, \"Latitude\": 12.5699326, \"Longitude\": 99.9573437, \"avg_aqi\": 45.13157894736842}, {\"Tournament City\": \"IASI\", \"Year\": 2022.0, \"Latitude\": 47.1615598, \"Longitude\": 27.5837814, \"avg_aqi\": 32.083333333333336}, {\"Tournament City\": \"IASI\", \"Year\": 2023.0, \"Latitude\": 47.1615598, \"Longitude\": 27.5837814, \"avg_aqi\": 40.0}, {\"Tournament City\": \"IASI\", \"Year\": 2024.0, \"Latitude\": 47.1615598, \"Longitude\": 27.5837814, \"avg_aqi\": 29.666666666666668}, {\"Tournament City\": \"INDIAN WELLS\", \"Year\": 2021.0, \"Latitude\": 33.7217965, \"Longitude\": -116.338303, \"avg_aqi\": 39.86666666666667}, {\"Tournament City\": \"INDIAN WELLS\", \"Year\": 2022.0, \"Latitude\": 33.7217965, \"Longitude\": -116.338303, \"avg_aqi\": 14.0}, {\"Tournament City\": \"INDIAN WELLS\", \"Year\": 2023.0, \"Latitude\": 33.7217965, \"Longitude\": -116.338303, \"avg_aqi\": 39.666666666666664}, {\"Tournament City\": \"INDIAN WELLS\", \"Year\": 2024.0, \"Latitude\": 33.7217965, \"Longitude\": -116.338303, \"avg_aqi\": 22.536585365853657}, {\"Tournament City\": \"ISTANBUL\", \"Year\": 2021.0, \"Latitude\": 41.006381, \"Longitude\": 28.9758715, \"avg_aqi\": 63.0}, {\"Tournament City\": \"ISTANBUL\", \"Year\": 2022.0, \"Latitude\": 41.006381, \"Longitude\": 28.9758715, \"avg_aqi\": 37.5}, {\"Tournament City\": \"KARLSRUHE\", \"Year\": 2022.0, \"Latitude\": 49.0068705, \"Longitude\": 8.4034195, \"avg_aqi\": 76.0}, {\"Tournament City\": \"KOZERKI\", \"Year\": 2023.0, \"Latitude\": 52.0902969, \"Longitude\": 20.5887195, \"avg_aqi\": 33.57142857142857}, {\"Tournament City\": \"LA BISBAL D'EMPORD\\u00c1\", \"Year\": 2023.0, \"Latitude\": 41.9598687, \"Longitude\": 3.039616, \"avg_aqi\": 38.7}, {\"Tournament City\": \"LA BISBAL D'EMPORD\\u00c1\", \"Year\": 2024.0, \"Latitude\": 41.9598687, \"Longitude\": 3.039616, \"avg_aqi\": 16.94736842105263}, {\"Tournament City\": \"LAUSANNE\", \"Year\": 2021.0, \"Latitude\": 46.5218269, \"Longitude\": 6.6327025, \"avg_aqi\": 33.666666666666664}, {\"Tournament City\": \"LAUSANNE\", \"Year\": 2022.0, \"Latitude\": 46.5218269, \"Longitude\": 6.6327025, \"avg_aqi\": 45.07692307692308}, {\"Tournament City\": \"LAUSANNE\", \"Year\": 2023.0, \"Latitude\": 46.5218269, \"Longitude\": 6.6327025, \"avg_aqi\": 22.125}, {\"Tournament City\": \"LJUBLJANA\", \"Year\": 2023.0, \"Latitude\": 46.0500268, \"Longitude\": 14.5069289, \"avg_aqi\": 76.21428571428571}, {\"Tournament City\": \"LJUBLJANA\", \"Year\": 2024.0, \"Latitude\": 46.0500268, \"Longitude\": 14.5069289, \"avg_aqi\": 22.6}, {\"Tournament City\": \"LLEIDA\", \"Year\": 2024.0, \"Latitude\": 41.6147605, \"Longitude\": 0.6267842, \"avg_aqi\": 19.9375}, {\"Tournament City\": \"LONDON\", \"Year\": 2023.0, \"Latitude\": 51.4893335, \"Longitude\": -0.1440550845276872, \"avg_aqi\": 2.1}, {\"Tournament City\": \"LONDON\", \"Year\": 2024.0, \"Latitude\": 51.4893335, \"Longitude\": -0.1440550845276872, \"avg_aqi\": 15.394736842105264}, {\"Tournament City\": \"MADRID\", \"Year\": 2021.0, \"Latitude\": 40.4167047, \"Longitude\": -3.7035825, \"avg_aqi\": 40.13333333333333}, {\"Tournament City\": \"MADRID\", \"Year\": 2022.0, \"Latitude\": 40.4167047, \"Longitude\": -3.7035825, \"avg_aqi\": 36.77777777777778}, {\"Tournament City\": \"MADRID\", \"Year\": 2023.0, \"Latitude\": 40.4167047, \"Longitude\": -3.7035825, \"avg_aqi\": 26.962962962962962}, {\"Tournament City\": \"MADRID\", \"Year\": 2024.0, \"Latitude\": 40.4167047, \"Longitude\": -3.7035825, \"avg_aqi\": 29.642857142857142}, {\"Tournament City\": \"MAKARSKA\", \"Year\": 2022.0, \"Latitude\": 43.2939756, \"Longitude\": 17.020242, \"avg_aqi\": 47.0}, {\"Tournament City\": \"MAKARSKA\", \"Year\": 2023.0, \"Latitude\": 43.2939756, \"Longitude\": 17.020242, \"avg_aqi\": 41.6}, {\"Tournament City\": \"MAKARSKA\", \"Year\": 2024.0, \"Latitude\": 43.2939756, \"Longitude\": 17.020242, \"avg_aqi\": 48.357142857142854}, {\"Tournament City\": \"MARBELLA\", \"Year\": 2022.0, \"Latitude\": 36.508976, \"Longitude\": -4.88562, \"avg_aqi\": 61.5}, {\"Tournament City\": \"MELBOURNE\", \"Year\": 2021.0, \"Latitude\": -37.8142454, \"Longitude\": 144.9631732, \"avg_aqi\": 58.666666666666664}, {\"Tournament City\": \"MELBOURNE\", \"Year\": 2022.0, \"Latitude\": -37.8142454, \"Longitude\": 144.9631732, \"avg_aqi\": 29.0}, {\"Tournament City\": \"MERIDA\", \"Year\": 2024.0, \"Latitude\": 38.9174665, \"Longitude\": -6.3443977, \"avg_aqi\": 47.07692307692308}, {\"Tournament City\": \"MIAMI\", \"Year\": 2021.0, \"Latitude\": 25.7741728, \"Longitude\": -80.19362, \"avg_aqi\": 31.2}, {\"Tournament City\": \"MIAMI\", \"Year\": 2022.0, \"Latitude\": 25.7741728, \"Longitude\": -80.19362, \"avg_aqi\": 50.0}, {\"Tournament City\": \"MIAMI\", \"Year\": 2023.0, \"Latitude\": 25.7741728, \"Longitude\": -80.19362, \"avg_aqi\": 36.36363636363637}, {\"Tournament City\": \"MIAMI\", \"Year\": 2024.0, \"Latitude\": 25.7741728, \"Longitude\": -80.19362, \"avg_aqi\": 45.84375}, {\"Tournament City\": \"MIDLAND\", \"Year\": 2023.0, \"Latitude\": 31.83688, \"Longitude\": -102.0103767, \"avg_aqi\": 41.666666666666664}, {\"Tournament City\": \"MONASTIR\", \"Year\": 2022.0, \"Latitude\": 35.7707582, \"Longitude\": 10.8280511, \"avg_aqi\": 34.25}, {\"Tournament City\": \"MONASTIR\", \"Year\": 2023.0, \"Latitude\": 35.7707582, \"Longitude\": 10.8280511, \"avg_aqi\": 66.6842105263158}, {\"Tournament City\": \"MONASTIR\", \"Year\": 2024.0, \"Latitude\": 35.7707582, \"Longitude\": 10.8280511, \"avg_aqi\": 57.0}, {\"Tournament City\": \"MONTERREY\", \"Year\": 2021.0, \"Latitude\": 25.6802019, \"Longitude\": -100.315258, \"avg_aqi\": 87.0}, {\"Tournament City\": \"MONTERREY\", \"Year\": 2022.0, \"Latitude\": 25.6802019, \"Longitude\": -100.315258, \"avg_aqi\": 73.44444444444444}, {\"Tournament City\": \"MONTERREY\", \"Year\": 2023.0, \"Latitude\": 25.6802019, \"Longitude\": -100.315258, \"avg_aqi\": 69.33333333333333}, {\"Tournament City\": \"MONTERREY\", \"Year\": 2024.0, \"Latitude\": 25.6802019, \"Longitude\": -100.315258, \"avg_aqi\": 56.0}, {\"Tournament City\": \"MONTEVIDEO\", \"Year\": 2021.0, \"Latitude\": -34.9058916, \"Longitude\": -56.1913095, \"avg_aqi\": 42.5}, {\"Tournament City\": \"MONTEVIDEO\", \"Year\": 2022.0, \"Latitude\": -34.9058916, \"Longitude\": -56.1913095, \"avg_aqi\": 26.166666666666668}, {\"Tournament City\": \"MONTEVIDEO\", \"Year\": 2023.0, \"Latitude\": -34.9058916, \"Longitude\": -56.1913095, \"avg_aqi\": 35.22222222222222}, {\"Tournament City\": \"MONTREAL\", \"Year\": 2021.0, \"Latitude\": 45.5031824, \"Longitude\": -73.5698065, \"avg_aqi\": 51.0}, {\"Tournament City\": \"MONTREAL\", \"Year\": 2023.0, \"Latitude\": 45.5031824, \"Longitude\": -73.5698065, \"avg_aqi\": 29.22222222222222}, {\"Tournament City\": \"MONTREUX\", \"Year\": 2024.0, \"Latitude\": 46.4310831, \"Longitude\": 6.9129921, \"avg_aqi\": 11.25}, {\"Tournament City\": \"MUMBAI\", \"Year\": 2024.0, \"Latitude\": 19.054999, \"Longitude\": 72.8692035, \"avg_aqi\": 132.36}, {\"Tournament City\": \"M\\u00c9RIDA\", \"Year\": 2023.0, \"Latitude\": 38.9174665, \"Longitude\": -6.3443977, \"avg_aqi\": 38.666666666666664}, {\"Tournament City\": \"NANCHANG\", \"Year\": 2023.0, \"Latitude\": 28.6472124, \"Longitude\": 116.0348483, \"avg_aqi\": 83.80645161290323}, {\"Tournament City\": \"NEW YORK\", \"Year\": 2023.0, \"Latitude\": 40.7127281, \"Longitude\": -74.0060152, \"avg_aqi\": 28.04}, {\"Tournament City\": \"NEW YORK\", \"Year\": 2024.0, \"Latitude\": 40.7127281, \"Longitude\": -74.0060152, \"avg_aqi\": 47.87179487179487}, {\"Tournament City\": \"NINGBO\", \"Year\": 2023.0, \"Latitude\": 29.8622194, \"Longitude\": 121.6203873, \"avg_aqi\": 65.05263157894737}, {\"Tournament City\": \"NINGBO\", \"Year\": 2024.0, \"Latitude\": 29.8622194, \"Longitude\": 121.6203873, \"avg_aqi\": 57.833333333333336}, {\"Tournament City\": \"NOTTINGHAM\", \"Year\": 2021.0, \"Latitude\": 52.9534193, \"Longitude\": -1.1496461, \"avg_aqi\": 19.22222222222222}, {\"Tournament City\": \"NOTTINGHAM\", \"Year\": 2022.0, \"Latitude\": 52.9534193, \"Longitude\": -1.1496461, \"avg_aqi\": 2.0}, {\"Tournament City\": \"NOTTINGHAM\", \"Year\": 2023.0, \"Latitude\": 52.9534193, \"Longitude\": -1.1496461, \"avg_aqi\": 2.5}, {\"Tournament City\": \"NOTTINGHAM\", \"Year\": 2024.0, \"Latitude\": 52.9534193, \"Longitude\": -1.1496461, \"avg_aqi\": 13.636363636363637}, {\"Tournament City\": \"OEIRAS\", \"Year\": 2024.0, \"Latitude\": 38.6925777, \"Longitude\": -9.3123076, \"avg_aqi\": 41.1}, {\"Tournament City\": \"OSAKA\", \"Year\": 2023.0, \"Latitude\": 34.6937569, \"Longitude\": 135.5014539, \"avg_aqi\": 0.0}, {\"Tournament City\": \"OSAKA\", \"Year\": 2024.0, \"Latitude\": 34.6937569, \"Longitude\": 135.5014539, \"avg_aqi\": 44.0}, {\"Tournament City\": \"PALERMO\", \"Year\": 2021.0, \"Latitude\": 38.1112268, \"Longitude\": 13.3524434, \"avg_aqi\": 55.55555555555556}, {\"Tournament City\": \"PALERMO\", \"Year\": 2022.0, \"Latitude\": 38.1112268, \"Longitude\": 13.3524434, \"avg_aqi\": 43.888888888888886}, {\"Tournament City\": \"PALERMO\", \"Year\": 2023.0, \"Latitude\": 38.1112268, \"Longitude\": 13.3524434, \"avg_aqi\": 56.63636363636363}, {\"Tournament City\": \"PALERMO\", \"Year\": 2024.0, \"Latitude\": 38.1112268, \"Longitude\": 13.3524434, \"avg_aqi\": 56.22222222222222}, {\"Tournament City\": \"PARIS\", \"Year\": 2023.0, \"Latitude\": 48.8534951, \"Longitude\": 2.3483915, \"avg_aqi\": 3.6363636363636362}, {\"Tournament City\": \"PARIS\", \"Year\": 2024.0, \"Latitude\": 48.8534951, \"Longitude\": 2.3483915, \"avg_aqi\": 20.75}, {\"Tournament City\": \"PARMA\", \"Year\": 2021.0, \"Latitude\": 44.6952006, \"Longitude\": 10.097986896904466, \"avg_aqi\": 32.94444444444444}, {\"Tournament City\": \"PARMA\", \"Year\": 2022.0, \"Latitude\": 44.6952006, \"Longitude\": 10.097986896904466, \"avg_aqi\": 45.125}, {\"Tournament City\": \"PARMA\", \"Year\": 2023.0, \"Latitude\": 44.6952006, \"Longitude\": 10.097986896904466, \"avg_aqi\": 51.5}, {\"Tournament City\": \"PARMA\", \"Year\": 2024.0, \"Latitude\": 44.6952006, \"Longitude\": 10.097986896904466, \"avg_aqi\": 10.363636363636363}, {\"Tournament City\": \"PORTOROZ\", \"Year\": 2021.0, \"Latitude\": 45.5146489, \"Longitude\": 13.5910112, \"avg_aqi\": 56.0}, {\"Tournament City\": \"PORTOROZ\", \"Year\": 2022.0, \"Latitude\": 45.5146489, \"Longitude\": 13.5910112, \"avg_aqi\": 35.6}, {\"Tournament City\": \"PRAGUE\", \"Year\": 2021.0, \"Latitude\": 50.0874654, \"Longitude\": 14.4212535, \"avg_aqi\": 51.45454545454545}, {\"Tournament City\": \"PRAGUE\", \"Year\": 2022.0, \"Latitude\": 50.0874654, \"Longitude\": 14.4212535, \"avg_aqi\": 43.5}, {\"Tournament City\": \"PRAGUE\", \"Year\": 2023.0, \"Latitude\": 50.0874654, \"Longitude\": 14.4212535, \"avg_aqi\": 32.93333333333333}, {\"Tournament City\": \"PRAGUE\", \"Year\": 2024.0, \"Latitude\": 50.0874654, \"Longitude\": 14.4212535, \"avg_aqi\": 12.333333333333334}, {\"Tournament City\": \"RABAT\", \"Year\": 2022.0, \"Latitude\": 33.9851778, \"Longitude\": -6.8461433, \"avg_aqi\": 58.23076923076923}, {\"Tournament City\": \"RABAT\", \"Year\": 2023.0, \"Latitude\": 33.9851778, \"Longitude\": -6.8461433, \"avg_aqi\": 46.125}, {\"Tournament City\": \"RABAT\", \"Year\": 2024.0, \"Latitude\": 33.9851778, \"Longitude\": -6.8461433, \"avg_aqi\": 26.15}, {\"Tournament City\": \"REUS\", \"Year\": 2023.0, \"Latitude\": 41.1555564, \"Longitude\": 1.1076133, \"avg_aqi\": 32.0}, {\"Tournament City\": \"ROME\", \"Year\": 2021.0, \"Latitude\": 41.8933203, \"Longitude\": 12.4829321, \"avg_aqi\": 27.076923076923077}, {\"Tournament City\": \"ROME\", \"Year\": 2022.0, \"Latitude\": 41.8933203, \"Longitude\": 12.4829321, \"avg_aqi\": 51.42857142857143}, {\"Tournament City\": \"ROME\", \"Year\": 2023.0, \"Latitude\": 41.8933203, \"Longitude\": 12.4829321, \"avg_aqi\": 38.166666666666664}, {\"Tournament City\": \"ROME\", \"Year\": 2024.0, \"Latitude\": 41.8933203, \"Longitude\": 12.4829321, \"avg_aqi\": 47.351351351351354}, {\"Tournament City\": \"S'HERTOGENBOSCH\", \"Year\": 2022.0, \"Latitude\": 51.6889387, \"Longitude\": 5.303116, \"avg_aqi\": 0.0}, {\"Tournament City\": \"S'HERTOGENBOSCH\", \"Year\": 2023.0, \"Latitude\": 51.6889387, \"Longitude\": 5.303116, \"avg_aqi\": 48.55555555555556}, {\"Tournament City\": \"S'HERTOGENBOSCH\", \"Year\": 2024.0, \"Latitude\": 51.6889387, \"Longitude\": 5.303116, \"avg_aqi\": 24.27777777777778}, {\"Tournament City\": \"SAINT MALO\", \"Year\": 2023.0, \"Latitude\": 48.649518, \"Longitude\": -2.0260409, \"avg_aqi\": 2.5384615384615383}, {\"Tournament City\": \"SAINT MALO\", \"Year\": 2024.0, \"Latitude\": 48.649518, \"Longitude\": -2.0260409, \"avg_aqi\": 36.75}, {\"Tournament City\": \"SAN DIEGO\", \"Year\": 2022.0, \"Latitude\": 32.7174202, \"Longitude\": -117.162772, \"avg_aqi\": 48.8}, {\"Tournament City\": \"SAN DIEGO\", \"Year\": 2023.0, \"Latitude\": 32.7174202, \"Longitude\": -117.162772, \"avg_aqi\": 36.666666666666664}, {\"Tournament City\": \"SAN DIEGO\", \"Year\": 2024.0, \"Latitude\": 32.7174202, \"Longitude\": -117.162772, \"avg_aqi\": 31.966666666666665}, {\"Tournament City\": \"SAN JOSE\", \"Year\": 2021.0, \"Latitude\": 37.3361663, \"Longitude\": -121.890591, \"avg_aqi\": 37.875}, {\"Tournament City\": \"SAN JOSE\", \"Year\": 2022.0, \"Latitude\": 37.3361663, \"Longitude\": -121.890591, \"avg_aqi\": 14.0}, {\"Tournament City\": \"SAN LUIS POTOSI\", \"Year\": 2023.0, \"Latitude\": 22.5000001, \"Longitude\": -100.4949145, \"avg_aqi\": 53.42857142857143}, {\"Tournament City\": \"SAN LUIS POTOSI\", \"Year\": 2024.0, \"Latitude\": 22.5000001, \"Longitude\": -100.4949145, \"avg_aqi\": 52.0}, {\"Tournament City\": \"SANTA CRUZ\", \"Year\": 2024.0, \"Latitude\": 28.467178, \"Longitude\": -16.2507843, \"avg_aqi\": 42.523809523809526}, {\"Tournament City\": \"SEOUL\", \"Year\": 2022.0, \"Latitude\": 37.5666791, \"Longitude\": 126.9782914, \"avg_aqi\": 56.4}, {\"Tournament City\": \"SEOUL\", \"Year\": 2023.0, \"Latitude\": 37.5666791, \"Longitude\": 126.9782914, \"avg_aqi\": 51.05882352941177}, {\"Tournament City\": \"SEOUL\", \"Year\": 2024.0, \"Latitude\": 37.5666791, \"Longitude\": 126.9782914, \"avg_aqi\": 38.07142857142857}, {\"Tournament City\": \"STRASBOURG\", \"Year\": 2021.0, \"Latitude\": 48.584614, \"Longitude\": 7.7507127, \"avg_aqi\": 2.4}, {\"Tournament City\": \"STRASBOURG\", \"Year\": 2022.0, \"Latitude\": 48.584614, \"Longitude\": 7.7507127, \"avg_aqi\": 3.6956521739130435}, {\"Tournament City\": \"STRASBOURG\", \"Year\": 2023.0, \"Latitude\": 48.584614, \"Longitude\": 7.7507127, \"avg_aqi\": 3.625}, {\"Tournament City\": \"STRASBOURG\", \"Year\": 2024.0, \"Latitude\": 48.584614, \"Longitude\": 7.7507127, \"avg_aqi\": 21.666666666666668}, {\"Tournament City\": \"SYDNEY\", \"Year\": 2022.0, \"Latitude\": -33.8698439, \"Longitude\": 151.2082848, \"avg_aqi\": 16.941176470588236}, {\"Tournament City\": \"SYDNEY\", \"Year\": 2023.0, \"Latitude\": -33.8698439, \"Longitude\": 151.2082848, \"avg_aqi\": 32.56}, {\"Tournament City\": \"TAMPICO\", \"Year\": 2023.0, \"Latitude\": 41.6324811, \"Longitude\": -89.7850393, \"avg_aqi\": 44.2}, {\"Tournament City\": \"TAMPICO\", \"Year\": 2024.0, \"Latitude\": 41.6324811, \"Longitude\": -89.7850393, \"avg_aqi\": 42.07142857142857}, {\"Tournament City\": \"TENERIFE\", \"Year\": 2021.0, \"Latitude\": 28.2935785, \"Longitude\": -16.621447121144122, \"avg_aqi\": 46.0625}, {\"Tournament City\": \"TOKYO\", \"Year\": 2022.0, \"Latitude\": 35.6768601, \"Longitude\": 139.7638947, \"avg_aqi\": 68.0}, {\"Tournament City\": \"TOKYO\", \"Year\": 2023.0, \"Latitude\": 35.6768601, \"Longitude\": 139.7638947, \"avg_aqi\": 20.555555555555557}, {\"Tournament City\": \"TOKYO\", \"Year\": 2024.0, \"Latitude\": 35.6768601, \"Longitude\": 139.7638947, \"avg_aqi\": 17.045454545454547}, {\"Tournament City\": \"TORONTO\", \"Year\": 2022.0, \"Latitude\": 43.6534817, \"Longitude\": -79.3839347, \"avg_aqi\": 59.0}, {\"Tournament City\": \"TORONTO\", \"Year\": 2024.0, \"Latitude\": 43.6534817, \"Longitude\": -79.3839347, \"avg_aqi\": 31.0}, {\"Tournament City\": \"UNKNOWN\", \"Year\": 2024.0, \"Latitude\": 26.49253305, \"Longitude\": 92.33087891709364, \"avg_aqi\": 24.333333333333332}, {\"Tournament City\": \"VALENCIA\", \"Year\": 2022.0, \"Latitude\": 39.4697065, \"Longitude\": -0.3763353, \"avg_aqi\": 28.6}, {\"Tournament City\": \"VALENCIA\", \"Year\": 2023.0, \"Latitude\": 39.4697065, \"Longitude\": -0.3763353, \"avg_aqi\": 32.22222222222222}, {\"Tournament City\": \"VALENCIA\", \"Year\": 2024.0, \"Latitude\": 39.4697065, \"Longitude\": -0.3763353, \"avg_aqi\": 32.55555555555556}, {\"Tournament City\": \"VANCOUVER\", \"Year\": 2022.0, \"Latitude\": 49.2608724, \"Longitude\": -123.113952, \"avg_aqi\": 69.8}, {\"Tournament City\": \"WARSAW\", \"Year\": 2023.0, \"Latitude\": 52.2337172, \"Longitude\": 21.071432235636493, \"avg_aqi\": 34.0}, {\"Tournament City\": \"WARSAW\", \"Year\": 2024.0, \"Latitude\": 52.2337172, \"Longitude\": 21.071432235636493, \"avg_aqi\": 49.470588235294116}, {\"Tournament City\": \"WASHINGTON DC\", \"Year\": 2023.0, \"Latitude\": 38.8950368, \"Longitude\": -77.0365427, \"avg_aqi\": 26.133333333333333}, {\"Tournament City\": \"WASHINGTON DC\", \"Year\": 2024.0, \"Latitude\": 38.8950368, \"Longitude\": -77.0365427, \"avg_aqi\": 52.5}, {\"Tournament City\": \"WUHAN\", \"Year\": 2024.0, \"Latitude\": 30.5951051, \"Longitude\": 114.2999353, \"avg_aqi\": 79.8695652173913}, {\"Tournament City\": \"ZHENGZHOU\", \"Year\": 2023.0, \"Latitude\": 34.7533392, \"Longitude\": 113.6599983, \"avg_aqi\": 91.33333333333333}, {\"Tournament City\": \"ZHUHAI\", \"Year\": 2023.0, \"Latitude\": 22.273734, \"Longitude\": 113.5721327, \"avg_aqi\": 50.69230769230769}]}}, {\"mode\": \"vega-lite\"});\n",
       "</script>"
      ],
      "text/plain": [
       "alt.LayerChart(...)"
      ]
     },
     "execution_count": 6,
     "metadata": {},
     "output_type": "execute_result"
    }
   ],
   "source": [
    "full_map = base_map + choropleth\n",
    "full_map"
   ]
  },
  {
   "cell_type": "code",
   "execution_count": 7,
   "metadata": {},
   "outputs": [
    {
     "name": "stderr",
     "output_type": "stream",
     "text": [
      "c:\\Users\\samer\\anaconda3\\Lib\\site-packages\\altair\\utils\\core.py:395: FutureWarning: the convert_dtype parameter is deprecated and will be removed in a future version.  Do ``ser.astype(object).apply()`` instead if you want ``convert_dtype=False``.\n",
      "  col = df[col_name].apply(to_list_if_array, convert_dtype=False)\n"
     ]
    }
   ],
   "source": [
    "full_map.save('index.html')"
   ]
  },
  {
   "cell_type": "code",
   "execution_count": null,
   "metadata": {},
   "outputs": [],
   "source": []
  }
 ],
 "metadata": {
  "kernelspec": {
   "display_name": "base",
   "language": "python",
   "name": "python3"
  },
  "language_info": {
   "codemirror_mode": {
    "name": "ipython",
    "version": 3
   },
   "file_extension": ".py",
   "mimetype": "text/x-python",
   "name": "python",
   "nbconvert_exporter": "python",
   "pygments_lexer": "ipython3",
   "version": "3.12.4"
  }
 },
 "nbformat": 4,
 "nbformat_minor": 2
}
